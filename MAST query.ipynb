{
 "cells": [
  {
   "cell_type": "code",
   "execution_count": 26,
   "id": "fce84a19",
   "metadata": {},
   "outputs": [
    {
     "name": "stdout",
     "output_type": "stream",
     "text": [
      "INFO: Using the S3 STScI public dataset [astroquery.mast.cloud]\n",
      "['s3://stpubdata/hst/public/jbev/jbeveo010/jbeveo010_drz.fits', 's3://stpubdata/hst/public/jbev/jbeveo010/jbeveo010_drz.fits', 's3://stpubdata/hst/public/jbev/jbevet010/jbevet010_drz.fits', 's3://stpubdata/hst/public/jbev/jbevet010/jbevet010_drz.fits']\n",
      "dataproduct_type calib_level obs_collection ... intentType  obsid     objID  \n",
      "---------------- ----------- -------------- ... ---------- -------- ---------\n",
      "           image           3            HST ...    science 24832668 220753832\n",
      "           image           3            HST ...    science 24832664 220756730\n",
      "           image           3            HST ...    science 26421364 242929688\n",
      "           image           3            HST ...    science 26423318 245349685\n"
     ]
    }
   ],
   "source": [
    "import os\n",
    "from astroquery.mast import Observations\n",
    "\n",
    "\n",
    "Observations.enable_cloud_dataset(provider='AWS')\n",
    "\n",
    "\n",
    "obs_table = Observations.query_criteria(obs_collection='HST',\n",
    "                                        filters='F606W',\n",
    "                                        instrument_name='ACS/WFC',\n",
    "                                        proposal_id=['12062'],\n",
    "                                        dataRights='PUBLIC')\n",
    "products = Observations.get_product_list(obs_table)\n",
    "filtered = Observations.filter_products(products,\n",
    "                                        productSubGroupDescription='DRZ')\n",
    "s3_uris = Observations.get_cloud_uris(filtered)\n",
    "print(s3_uris)\n",
    "print(obs_table)\n",
    "\n",
    "Observations.disable_cloud_dataset()"
   ]
  },
  {
   "cell_type": "code",
   "execution_count": 27,
   "id": "2439cc74",
   "metadata": {},
   "outputs": [
    {
     "name": "stdout",
     "output_type": "stream",
     "text": [
      "INFO: Using the S3 STScI public dataset [astroquery.mast.cloud]\n"
     ]
    },
    {
     "name": "stderr",
     "output_type": "stream",
     "text": [
      "WARNING: InputWarning: Filter z does not exist. This filter will be skipped. [astroquery.mast.discovery_portal]\n"
     ]
    },
    {
     "name": "stdout",
     "output_type": "stream",
     "text": [
      "dataproduct_type calib_level obs_collection ... intentType   obsid     objID  \n",
      "---------------- ----------- -------------- ... ---------- --------- ---------\n",
      "        spectrum           2            HST ...    science  24754086 124378650\n",
      "        spectrum           2            HST ...    science  24754091 124378665\n",
      "        spectrum           2            HST ...    science  24754031 124378740\n",
      "        spectrum           2            HST ...    science  24754012 124378822\n",
      "        spectrum           2            HST ...    science  24754121 124378860\n",
      "        spectrum           2            HST ...    science  24754097 124378877\n",
      "        spectrum           2            HST ...    science  24754117 124378878\n",
      "        spectrum           2            HST ...    science  24754092 124378891\n",
      "        spectrum           2            HST ...    science  24754107 124378901\n",
      "        spectrum           2            HST ...    science  24754078 124378944\n",
      "             ...         ...            ... ...        ...       ...       ...\n",
      "        spectrum           3            HST ...    science  24995540 235963716\n",
      "        spectrum           3            HST ...    science  24940707 235964932\n",
      "        spectrum           3            HST ...    science  24968888 233369495\n",
      "        spectrum           3            HST ...    science  24981431 233369738\n",
      "        spectrum           3            HST ...    science  26079338 233373397\n",
      "        spectrum           3            HST ...    science  26078847 233374433\n",
      "        spectrum           3            HST ...    science  62805815 233377364\n",
      "        spectrum           3            HST ...    science  62788313 233378355\n",
      "        spectrum           3            HST ...    science  62871192 233378375\n",
      "        spectrum           3            HST ...    science  97278734 233379888\n",
      "        spectrum           3            HST ...    science 108345389 233380704\n",
      "Length = 614 rows\n"
     ]
    }
   ],
   "source": [
    "import os\n",
    "from astroquery.mast import Catalogs\n",
    "from astroquery.mast import Observations\n",
    "\n",
    "Observations.enable_cloud_dataset(provider='AWS')\n",
    "\n",
    "obs_table = Observations.query_criteria(\n",
    "    dataproduct_type='spectrum',\n",
    "    target_classification='Supernova',\n",
    "    obs_collection='HST',\n",
    "    z=[0.025,0.045]\n",
    ")\n",
    "\n",
    "\n",
    "print(obs_table)\n",
    "\n"
   ]
  },
  {
   "cell_type": "code",
   "execution_count": 104,
   "id": "566fd852",
   "metadata": {},
   "outputs": [
    {
     "name": "stdout",
     "output_type": "stream",
     "text": [
      "mast:IUE/url/pub/iue/data/lwp/13000/lwp13058.elbll.gz\n",
      "Downloading URL https://mast.stsci.edu/api/v0.1/Download/file?uri=mast:IUE/url/pub/iue/data/lwp/13000/lwp13058.elbll.gz to C:\\Users\\27936\\lwp13058.elbll.gz ... [Done]\n",
      "('COMPLETE', None, None)\n"
     ]
    },
    {
     "data": {
      "text/plain": [
       "('COMPLETE', None, None)"
      ]
     },
     "execution_count": 104,
     "metadata": {},
     "output_type": "execute_result"
    }
   ],
   "source": [
    "from astroquery.mast import Observations\n",
    "\n",
    "single_obs = Observations.query_criteria(obs_collection=\"IUE\",obs_id=\"lwp13058\")\n",
    "data_products = Observations.get_product_list(single_obs)\n",
    "\n",
    "product = data_products[0][\"dataURI\"]\n",
    "print(product)\n",
    "\n",
    "result = Observations.download_file(product)   \n",
    "\n",
    "print(result)\n",
    "('COMPLETE', None, None)"
   ]
  },
  {
   "cell_type": "code",
   "execution_count": 28,
   "id": "3d140737",
   "metadata": {},
   "outputs": [
    {
     "name": "stdout",
     "output_type": "stream",
     "text": [
      "   target_name       filters         s_ra           s_dec     \n",
      "----------------- ------------- -------------- ---------------\n",
      "         SN1999AN CLEAR1L;F814W 180.2940416667  14.10341666667\n",
      "         SN1999BR F555W;CLEAR2L 195.1741666667  2.496055555556\n",
      "         SN1999AN F555W;CLEAR2L 180.2940416667  14.10341666667\n",
      "         SN1999BR CLEAR1L;F814W 195.1741666667  2.496055555556\n",
      "         SN1999EV F555W;CLEAR2L     184.951375  29.62283333333\n",
      "         SN2000EW CLEAR1L;F814W 175.2438333333  11.46552777778\n",
      "         SN1999EV CLEAR1L;F814W     184.951375  29.62283333333\n",
      "         SN2000EW F555W;CLEAR2L 175.2438333333  11.46552777778\n",
      "              ANY CLEAR1L;F814W 188.6077925434  2.654758653007\n",
      "              ANY CLEAR1L;F814W 161.7581946804  11.82124025033\n",
      "              ...           ...            ...             ...\n",
      "         SN-1987A         F438W       83.86675 -69.26974166667\n",
      "        SN2019EHK         F555W     185.733875          15.826\n",
      "        SN2018GET         F555W 113.5377916667  4.549419444444\n",
      "GOODS-S-UVCANDELS         F275W 53.27556570064 -27.87507161183\n",
      "GOODS-S-UVCANDELS         F336W 53.13296960168 -27.92352590975\n",
      "GOODS-S-UVCANDELS         F275W  53.1313158955 -27.92002014055\n",
      "GOODS-S-UVCANDELS         F275W 53.17916666667 -27.90444444444\n",
      "        AT2023FHN         F814W 152.0158958333  21.07415277778\n",
      "        AT2023FHN         F555W 152.0158958333  21.07415277778\n",
      "        SN2018GHB         F814W        104.615 -28.76366111111\n",
      "        SN2019RWD         F555W        2.69125  21.13909722222\n",
      "Length = 786 rows\n"
     ]
    },
    {
     "name": "stderr",
     "output_type": "stream",
     "text": [
      "WARNING: InputWarning: Coordinate string is being interpreted as an ICRS coordinate provided in degrees. [astroquery.utils.commons]\n"
     ]
    },
    {
     "ename": "RemoteServiceError",
     "evalue": "Unable to Locate Adaptor for service: Mast.Catalogs.NED.Cone",
     "output_type": "error",
     "traceback": [
      "\u001b[1;31m---------------------------------------------------------------------------\u001b[0m",
      "\u001b[1;31mRemoteServiceError\u001b[0m                        Traceback (most recent call last)",
      "\u001b[1;32m~\\AppData\\Local\\Temp\\ipykernel_14284\\227382949.py\u001b[0m in \u001b[0;36m<module>\u001b[1;34m\u001b[0m\n\u001b[0;32m     25\u001b[0m \u001b[0mdec\u001b[0m \u001b[1;33m=\u001b[0m\u001b[1;36m14.10341666667\u001b[0m\u001b[1;33m\u001b[0m\u001b[1;33m\u001b[0m\u001b[0m\n\u001b[0;32m     26\u001b[0m \u001b[1;33m\u001b[0m\u001b[0m\n\u001b[1;32m---> 27\u001b[1;33m \u001b[0mresult\u001b[0m \u001b[1;33m=\u001b[0m \u001b[0mCatalogs\u001b[0m\u001b[1;33m.\u001b[0m\u001b[0mquery_region\u001b[0m\u001b[1;33m(\u001b[0m\u001b[0mcoordinates\u001b[0m\u001b[1;33m=\u001b[0m\u001b[1;34mf\"{ra} {dec}\"\u001b[0m\u001b[1;33m,\u001b[0m \u001b[0mradius\u001b[0m\u001b[1;33m=\u001b[0m\u001b[1;36m0.1\u001b[0m\u001b[1;33m,\u001b[0m \u001b[0mcatalog\u001b[0m\u001b[1;33m=\u001b[0m\u001b[1;34m\"NED\"\u001b[0m\u001b[1;33m)\u001b[0m\u001b[1;33m\u001b[0m\u001b[1;33m\u001b[0m\u001b[0m\n\u001b[0m\u001b[0;32m     28\u001b[0m \u001b[1;33m\u001b[0m\u001b[0m\n\u001b[0;32m     29\u001b[0m \u001b[1;33m\u001b[0m\u001b[0m\n",
      "\u001b[1;32m~\\AppData\\Roaming\\Python\\Python39\\site-packages\\astroquery\\utils\\class_or_instance.py\u001b[0m in \u001b[0;36mf\u001b[1;34m(*args, **kwds)\u001b[0m\n\u001b[0;32m     23\u001b[0m         \u001b[1;32mdef\u001b[0m \u001b[0mf\u001b[0m\u001b[1;33m(\u001b[0m\u001b[1;33m*\u001b[0m\u001b[0margs\u001b[0m\u001b[1;33m,\u001b[0m \u001b[1;33m**\u001b[0m\u001b[0mkwds\u001b[0m\u001b[1;33m)\u001b[0m\u001b[1;33m:\u001b[0m\u001b[1;33m\u001b[0m\u001b[1;33m\u001b[0m\u001b[0m\n\u001b[0;32m     24\u001b[0m             \u001b[1;32mif\u001b[0m \u001b[0mobj\u001b[0m \u001b[1;32mis\u001b[0m \u001b[1;32mnot\u001b[0m \u001b[1;32mNone\u001b[0m\u001b[1;33m:\u001b[0m\u001b[1;33m\u001b[0m\u001b[1;33m\u001b[0m\u001b[0m\n\u001b[1;32m---> 25\u001b[1;33m                 \u001b[1;32mreturn\u001b[0m \u001b[0mself\u001b[0m\u001b[1;33m.\u001b[0m\u001b[0mfn\u001b[0m\u001b[1;33m(\u001b[0m\u001b[0mobj\u001b[0m\u001b[1;33m,\u001b[0m \u001b[1;33m*\u001b[0m\u001b[0margs\u001b[0m\u001b[1;33m,\u001b[0m \u001b[1;33m**\u001b[0m\u001b[0mkwds\u001b[0m\u001b[1;33m)\u001b[0m\u001b[1;33m\u001b[0m\u001b[1;33m\u001b[0m\u001b[0m\n\u001b[0m\u001b[0;32m     26\u001b[0m             \u001b[1;32melse\u001b[0m\u001b[1;33m:\u001b[0m\u001b[1;33m\u001b[0m\u001b[1;33m\u001b[0m\u001b[0m\n\u001b[0;32m     27\u001b[0m                 \u001b[1;32mreturn\u001b[0m \u001b[0mself\u001b[0m\u001b[1;33m.\u001b[0m\u001b[0mfn\u001b[0m\u001b[1;33m(\u001b[0m\u001b[0mcls\u001b[0m\u001b[1;33m,\u001b[0m \u001b[1;33m*\u001b[0m\u001b[0margs\u001b[0m\u001b[1;33m,\u001b[0m \u001b[1;33m**\u001b[0m\u001b[0mkwds\u001b[0m\u001b[1;33m)\u001b[0m\u001b[1;33m\u001b[0m\u001b[1;33m\u001b[0m\u001b[0m\n",
      "\u001b[1;32m~\\AppData\\Roaming\\Python\\Python39\\site-packages\\astroquery\\utils\\process_asyncs.py\u001b[0m in \u001b[0;36mnewmethod\u001b[1;34m(self, *args, **kwargs)\u001b[0m\n\u001b[0;32m     27\u001b[0m             \u001b[1;32mif\u001b[0m \u001b[0mkwargs\u001b[0m\u001b[1;33m.\u001b[0m\u001b[0mget\u001b[0m\u001b[1;33m(\u001b[0m\u001b[1;34m'get_query_payload'\u001b[0m\u001b[1;33m)\u001b[0m \u001b[1;32mor\u001b[0m \u001b[0mkwargs\u001b[0m\u001b[1;33m.\u001b[0m\u001b[0mget\u001b[0m\u001b[1;33m(\u001b[0m\u001b[1;34m'field_help'\u001b[0m\u001b[1;33m)\u001b[0m\u001b[1;33m:\u001b[0m\u001b[1;33m\u001b[0m\u001b[1;33m\u001b[0m\u001b[0m\n\u001b[0;32m     28\u001b[0m                 \u001b[1;32mreturn\u001b[0m \u001b[0mresponse\u001b[0m\u001b[1;33m\u001b[0m\u001b[1;33m\u001b[0m\u001b[0m\n\u001b[1;32m---> 29\u001b[1;33m             \u001b[0mresult\u001b[0m \u001b[1;33m=\u001b[0m \u001b[0mself\u001b[0m\u001b[1;33m.\u001b[0m\u001b[0m_parse_result\u001b[0m\u001b[1;33m(\u001b[0m\u001b[0mresponse\u001b[0m\u001b[1;33m,\u001b[0m \u001b[0mverbose\u001b[0m\u001b[1;33m=\u001b[0m\u001b[0mverbose\u001b[0m\u001b[1;33m)\u001b[0m\u001b[1;33m\u001b[0m\u001b[1;33m\u001b[0m\u001b[0m\n\u001b[0m\u001b[0;32m     30\u001b[0m             \u001b[0mself\u001b[0m\u001b[1;33m.\u001b[0m\u001b[0mtable\u001b[0m \u001b[1;33m=\u001b[0m \u001b[0mresult\u001b[0m\u001b[1;33m\u001b[0m\u001b[1;33m\u001b[0m\u001b[0m\n\u001b[0;32m     31\u001b[0m             \u001b[1;32mreturn\u001b[0m \u001b[0mresult\u001b[0m\u001b[1;33m\u001b[0m\u001b[1;33m\u001b[0m\u001b[0m\n",
      "\u001b[1;32m~\\AppData\\Roaming\\Python\\Python39\\site-packages\\astroquery\\mast\\collections.py\u001b[0m in \u001b[0;36m_parse_result\u001b[1;34m(self, response, verbose)\u001b[0m\n\u001b[0;32m     51\u001b[0m     \u001b[1;32mdef\u001b[0m \u001b[0m_parse_result\u001b[0m\u001b[1;33m(\u001b[0m\u001b[0mself\u001b[0m\u001b[1;33m,\u001b[0m \u001b[0mresponse\u001b[0m\u001b[1;33m,\u001b[0m \u001b[1;33m*\u001b[0m\u001b[1;33m,\u001b[0m \u001b[0mverbose\u001b[0m\u001b[1;33m=\u001b[0m\u001b[1;32mFalse\u001b[0m\u001b[1;33m)\u001b[0m\u001b[1;33m:\u001b[0m\u001b[1;33m\u001b[0m\u001b[1;33m\u001b[0m\u001b[0m\n\u001b[0;32m     52\u001b[0m \u001b[1;33m\u001b[0m\u001b[0m\n\u001b[1;32m---> 53\u001b[1;33m         \u001b[0mresults_table\u001b[0m \u001b[1;33m=\u001b[0m \u001b[0mself\u001b[0m\u001b[1;33m.\u001b[0m\u001b[0m_current_connection\u001b[0m\u001b[1;33m.\u001b[0m\u001b[0m_parse_result\u001b[0m\u001b[1;33m(\u001b[0m\u001b[0mresponse\u001b[0m\u001b[1;33m,\u001b[0m \u001b[0mverbose\u001b[0m\u001b[1;33m=\u001b[0m\u001b[0mverbose\u001b[0m\u001b[1;33m)\u001b[0m\u001b[1;33m\u001b[0m\u001b[1;33m\u001b[0m\u001b[0m\n\u001b[0m\u001b[0;32m     54\u001b[0m \u001b[1;33m\u001b[0m\u001b[0m\n\u001b[0;32m     55\u001b[0m         \u001b[1;32mif\u001b[0m \u001b[0mlen\u001b[0m\u001b[1;33m(\u001b[0m\u001b[0mresults_table\u001b[0m\u001b[1;33m)\u001b[0m \u001b[1;33m==\u001b[0m \u001b[0mself\u001b[0m\u001b[1;33m.\u001b[0m\u001b[0mcatalog_limit\u001b[0m\u001b[1;33m:\u001b[0m\u001b[1;33m\u001b[0m\u001b[1;33m\u001b[0m\u001b[0m\n",
      "\u001b[1;32m~\\AppData\\Roaming\\Python\\Python39\\site-packages\\astroquery\\mast\\discovery_portal.py\u001b[0m in \u001b[0;36m_parse_result\u001b[1;34m(self, responses, verbose)\u001b[0m\n\u001b[0;32m    289\u001b[0m             \u001b[1;31m# check for error message\u001b[0m\u001b[1;33m\u001b[0m\u001b[1;33m\u001b[0m\u001b[0m\n\u001b[0;32m    290\u001b[0m             \u001b[1;32mif\u001b[0m \u001b[0mresult\u001b[0m\u001b[1;33m[\u001b[0m\u001b[1;34m'status'\u001b[0m\u001b[1;33m]\u001b[0m \u001b[1;33m==\u001b[0m \u001b[1;34m\"ERROR\"\u001b[0m\u001b[1;33m:\u001b[0m\u001b[1;33m\u001b[0m\u001b[1;33m\u001b[0m\u001b[0m\n\u001b[1;32m--> 291\u001b[1;33m                 \u001b[1;32mraise\u001b[0m \u001b[0mRemoteServiceError\u001b[0m\u001b[1;33m(\u001b[0m\u001b[0mresult\u001b[0m\u001b[1;33m.\u001b[0m\u001b[0mget\u001b[0m\u001b[1;33m(\u001b[0m\u001b[1;34m'msg'\u001b[0m\u001b[1;33m,\u001b[0m \u001b[1;34m\"There was an error with your request.\"\u001b[0m\u001b[1;33m)\u001b[0m\u001b[1;33m)\u001b[0m\u001b[1;33m\u001b[0m\u001b[1;33m\u001b[0m\u001b[0m\n\u001b[0m\u001b[0;32m    292\u001b[0m \u001b[1;33m\u001b[0m\u001b[0m\n\u001b[0;32m    293\u001b[0m             \u001b[0mresult_table\u001b[0m \u001b[1;33m=\u001b[0m \u001b[0m_json_to_table\u001b[0m\u001b[1;33m(\u001b[0m\u001b[0mresult\u001b[0m\u001b[1;33m,\u001b[0m \u001b[0mcol_config\u001b[0m\u001b[1;33m)\u001b[0m\u001b[1;33m\u001b[0m\u001b[1;33m\u001b[0m\u001b[0m\n",
      "\u001b[1;31mRemoteServiceError\u001b[0m: Unable to Locate Adaptor for service: Mast.Catalogs.NED.Cone"
     ]
    }
   ],
   "source": [
    "import os\n",
    "from astroquery.mast import Observations\n",
    "from astroquery.sdss import SDSS\n",
    "from astroquery.mast import Catalogs\n",
    "# Perform the initial query without the redshift constraint\n",
    "obs_table = Observations.query_criteria(target_classification='Supernova',\n",
    "                                        obs_collection=['HST'],\n",
    "                                        instrument_name=['ACS/WFC', 'WFC3/UVIS', 'WFC3/IR'],\n",
    "                                        filters=['F275W', 'F336W', 'F438W', 'F555W', 'F814W'])\n",
    "\n",
    "obs_table = obs_table[['target_name', 'filters', 's_ra', 's_dec']]\n",
    "print(obs_table)\n",
    "\n",
    "# redshift_column = 'redshift'\n",
    "# redshift_data = Observations.query_criteria(obs_id=obs_table['obs_id'], columns=[redshift_column])\n",
    "# obs_table[redshift_column] = redshift_data[redshift_column]\n",
    "\n",
    "# redshift_min = 0.025\n",
    "# redshift_max = 0.045\n",
    "# obs_table = obs_table[(obs_table[redshift_column] > redshift_min) & (obs_table[redshift_column] < redshift_max)]\n",
    "\n",
    "# print(obs_table)\n",
    "\n",
    "ra = 180.2940416667    \n",
    "dec =14.10341666667 \n",
    "\n",
    "result = Catalogs.query_region(coordinates=f\"{ra} {dec}\", radius=0.1, catalog=\"NED\")\n",
    "\n",
    "\n",
    "if len(result) > 0:\n",
    "    # Extract the redshift value from the query result\n",
    "    redshift = result['Redshift'][0]\n",
    "\n",
    "    # Print the redshift value\n",
    "    print(\"Redshift:\", redshift)\n",
    "else:\n",
    "    print(\"No redshift information found for the specified object.\")"
   ]
  },
  {
   "cell_type": "code",
   "execution_count": 4,
   "id": "e321f5c0",
   "metadata": {},
   "outputs": [],
   "source": [
    "\n"
   ]
  },
  {
   "cell_type": "code",
   "execution_count": null,
   "id": "0af4284b",
   "metadata": {},
   "outputs": [],
   "source": []
  }
 ],
 "metadata": {
  "kernelspec": {
   "display_name": "Python 3 (ipykernel)",
   "language": "python",
   "name": "python3"
  },
  "language_info": {
   "codemirror_mode": {
    "name": "ipython",
    "version": 3
   },
   "file_extension": ".py",
   "mimetype": "text/x-python",
   "name": "python",
   "nbconvert_exporter": "python",
   "pygments_lexer": "ipython3",
   "version": "3.9.13"
  }
 },
 "nbformat": 4,
 "nbformat_minor": 5
}
